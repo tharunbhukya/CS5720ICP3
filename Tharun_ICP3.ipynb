{
  "nbformat": 4,
  "nbformat_minor": 0,
  "metadata": {
    "colab": {
      "provenance": []
    },
    "kernelspec": {
      "name": "python3",
      "display_name": "Python 3"
    },
    "language_info": {
      "name": "python"
    }
  },
  "cells": [
    {
      "cell_type": "code",
      "execution_count": 1,
      "metadata": {
        "colab": {
          "base_uri": "https://localhost:8080/"
        },
        "id": "MZMGC0_E8yxI",
        "outputId": "057aa567-5924-48ee-98d8-1faf5ade0df7"
      },
      "outputs": [
        {
          "output_type": "stream",
          "name": "stdout",
          "text": [
            "Calling FulltimeEmployee member function.\n",
            "Average salary: 163000.0\n"
          ]
        }
      ],
      "source": [
        "# Created Employee class with name, family, salary and department\n",
        "class Employee:\n",
        "\n",
        "    # declared a data member to count the number of Employees\n",
        "    no_of_employees = 0\n",
        "\n",
        "    # constructor to initialize the object's attributes\n",
        "    def __init__(self, name, family_name, salary, department):\n",
        "        self.__name = name\n",
        "        self.__family_name = family_name\n",
        "        self.salary = salary\n",
        "        self.__department = department\n",
        "        Employee.no_of_employees += 1\n",
        "\n",
        "    # declared average_salary function to return average salary\n",
        "    def average_salary(employees):\n",
        "        \"\"\"\n",
        "        function to average salary\n",
        "        \"\"\"\n",
        "        sum = 0\n",
        "        for employee in employees:\n",
        "            sum += employee.salary\n",
        "        return sum / Employee.no_of_employees\n",
        "\n",
        "# Created a Fulltime Employee class and inherited the properties of Employee class\n",
        "class FulltimeEmployee(Employee):\n",
        "    \"\"\"\n",
        "    Full Time Employee is a sub class of Employee\n",
        "    \"\"\"\n",
        "\n",
        "    def __init__(self, name, family_name, salary, department):\n",
        "        super().__init__(name, family_name, salary, department)\n",
        "\n",
        "    def full_time_member(self):\n",
        "        print(\"Calling FulltimeEmployee member function.\")\n",
        "\n",
        "# Created the instances of Fulltime Employee class and Employee class and calling their member functions.\n",
        "def main():\n",
        "    employees = []\n",
        "    ftEmployee1 = FulltimeEmployee(\"Vamshi\", \"Ponugoti\", 140000, \"Software Engineering\")\n",
        "    ftEmployee1.full_time_member()\n",
        "    employees.append(ftEmployee1)\n",
        "    ftEmployee2 = FulltimeEmployee(\"Micheal\", \"Velayudham\", 170000, \"Cyber Security\")\n",
        "    employees.append(ftEmployee2)\n",
        "    employee1 = Employee(\"CoseC\", \"Pacchipulsula\", 150000, \"Testing\")\n",
        "    employees.append(employee1)\n",
        "    employee2 = Employee(\"VeeraSimhaReddy\", \"Nandamuri\", 192000, \"Product Manager\")\n",
        "    employees.append(employee2)\n",
        "    print(\"Average salary:\", FulltimeEmployee.average_salary(employees))\n",
        "\n",
        "# declared this method to execute code When the file runs as a script.\n",
        "if __name__ == \"__main__\":\n",
        "    main()"
      ]
    },
    {
      "cell_type": "code",
      "source": [
        "import numpy as np\n",
        "import numpy as np\n",
        "# created a random vector of size 20 with float values between 1 and 20\n",
        "ranvec = np.random.uniform(low=1, high=20, size=20)\n",
        "print(ranvec)\n",
        "# reshape the array to 4 by 5 using reshape method\n",
        "mat45 = ranvec.reshape(4, 5)\n",
        "print(mat45)\n",
        "# replace the max in each row by 0 using where method\n",
        "mat45 = np.where(mat45 == np.amax(mat45, axis=1, keepdims=True), 0, mat45)\n",
        "print(mat45)"
      ],
      "metadata": {
        "colab": {
          "base_uri": "https://localhost:8080/"
        },
        "id": "1Gr_MPuY9CLP",
        "outputId": "0b930eda-f5ac-48d0-f718-902518c220f1"
      },
      "execution_count": 2,
      "outputs": [
        {
          "output_type": "stream",
          "name": "stdout",
          "text": [
            "[ 3.80683217 10.33323448  6.14508047  1.94688297  1.68359592 10.5170204\n",
            " 15.77292306 16.79278643 16.47981087  3.20056711  3.76292761  9.96423222\n",
            "  9.71930098 15.11598393  6.59812206  3.29305427  5.36820923 14.95842389\n",
            "  3.25027586 18.63864116]\n",
            "[[ 3.80683217 10.33323448  6.14508047  1.94688297  1.68359592]\n",
            " [10.5170204  15.77292306 16.79278643 16.47981087  3.20056711]\n",
            " [ 3.76292761  9.96423222  9.71930098 15.11598393  6.59812206]\n",
            " [ 3.29305427  5.36820923 14.95842389  3.25027586 18.63864116]]\n",
            "[[ 3.80683217  0.          6.14508047  1.94688297  1.68359592]\n",
            " [10.5170204  15.77292306  0.         16.47981087  3.20056711]\n",
            " [ 3.76292761  9.96423222  9.71930098  0.          6.59812206]\n",
            " [ 3.29305427  5.36820923 14.95842389  3.25027586  0.        ]]\n"
          ]
        }
      ]
    }
  ]
}